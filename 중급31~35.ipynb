{
  "nbformat": 4,
  "nbformat_minor": 0,
  "metadata": {
    "colab": {
      "provenance": [],
      "authorship_tag": "ABX9TyNaI8jdyyse0OySE8us4JPF",
      "include_colab_link": true
    },
    "kernelspec": {
      "name": "python3",
      "display_name": "Python 3"
    },
    "language_info": {
      "name": "python"
    }
  },
  "cells": [
    {
      "cell_type": "markdown",
      "metadata": {
        "id": "view-in-github",
        "colab_type": "text"
      },
      "source": [
        "<a href=\"https://colab.research.google.com/github/jangjinhong/python-/blob/main/%EC%A4%91%EA%B8%8931~35.ipynb\" target=\"_parent\"><img src=\"https://colab.research.google.com/assets/colab-badge.svg\" alt=\"Open In Colab\"/></a>"
      ]
    },
    {
      "cell_type": "code",
      "execution_count": null,
      "metadata": {
        "colab": {
          "base_uri": "https://localhost:8080/"
        },
        "id": "fHHqEAGOW8Gb",
        "outputId": "f8f7c010-18ef-431d-f715-a5f9b7051357"
      },
      "outputs": [
        {
          "output_type": "stream",
          "name": "stdout",
          "text": [
            "안녕하세요. 저는 제주대학교 컴퓨터공학전공 혜림입니다.\n",
            "5\n"
          ]
        }
      ],
      "source": [
        "# Q. 32\n",
        "\n",
        "str = input()\n",
        "\n",
        "print(len(str.split(' ')))"
      ]
    },
    {
      "cell_type": "code",
      "source": [
        "str = input()\n",
        "\n",
        "print(len(str.strip().split(' ')))"
      ],
      "metadata": {
        "colab": {
          "base_uri": "https://localhost:8080/"
        },
        "id": "uEBdI6CoY2wU",
        "outputId": "7566f8fc-fbd1-4c2e-e5cc-62bd1910116f"
      },
      "execution_count": null,
      "outputs": [
        {
          "output_type": "stream",
          "name": "stdout",
          "text": [
            "안녕하세요. 저는 제주대학교 컴퓨터공학전공 혜림입니다.\n",
            "5\n"
          ]
        }
      ]
    },
    {
      "cell_type": "code",
      "source": [
        "str = \"안녕하세요. 저는 사람입니다.\"\n",
        "\n",
        "print(list(str.strip()))"
      ],
      "metadata": {
        "colab": {
          "base_uri": "https://localhost:8080/"
        },
        "id": "ovp-HjdCZY7K",
        "outputId": "dc0257df-ad98-4213-a018-cdc2a6779cb2"
      },
      "execution_count": null,
      "outputs": [
        {
          "output_type": "stream",
          "name": "stdout",
          "text": [
            "['안', '녕', '하', '세', '요', '.', ' ', '저', '는', ' ', '사', '람', '입', '니', '다', '.']\n"
          ]
        }
      ]
    },
    {
      "cell_type": "code",
      "source": [
        "# Q.33\n",
        "\n",
        "nums = input()\n",
        "\n",
        "print(nums[::-1])"
      ],
      "metadata": {
        "colab": {
          "base_uri": "https://localhost:8080/"
        },
        "id": "puuUdtkbaItU",
        "outputId": "493bcd2e-8364-4051-b9f8-eed6b8dc535c"
      },
      "execution_count": null,
      "outputs": [
        {
          "output_type": "stream",
          "name": "stdout",
          "text": [
            "2 4 6 7 8\n",
            "8 7 6 4 2\n"
          ]
        }
      ]
    },
    {
      "cell_type": "code",
      "source": [
        "nums = list(map(int, input().split()))\n",
        "\n",
        "for i in range(len(nums)-1, -1, -1):\n",
        "  print(nums[i], end=' ')"
      ],
      "metadata": {
        "colab": {
          "base_uri": "https://localhost:8080/"
        },
        "id": "W1iYFaaCaioK",
        "outputId": "ab99e845-da29-499f-81ce-42224dfdc507"
      },
      "execution_count": null,
      "outputs": [
        {
          "output_type": "stream",
          "name": "stdout",
          "text": [
            "2 4 6 7 8\n",
            "8 7 6 4 2 "
          ]
        }
      ]
    },
    {
      "cell_type": "code",
      "source": [
        "#Q.34\n",
        "\n"
      ],
      "metadata": {
        "id": "8N4CIIpUbE0_"
      },
      "execution_count": null,
      "outputs": []
    }
  ]
}