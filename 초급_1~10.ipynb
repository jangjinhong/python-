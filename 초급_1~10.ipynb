{
  "nbformat": 4,
  "nbformat_minor": 0,
  "metadata": {
    "colab": {
      "provenance": [],
      "authorship_tag": "ABX9TyP+SLKXdZN9Iqtv75Mr1b+B",
      "include_colab_link": true
    },
    "kernelspec": {
      "name": "python3",
      "display_name": "Python 3"
    },
    "language_info": {
      "name": "python"
    }
  },
  "cells": [
    {
      "cell_type": "markdown",
      "metadata": {
        "id": "view-in-github",
        "colab_type": "text"
      },
      "source": [
        "<a href=\"https://colab.research.google.com/github/jangjinhong/python-/blob/main/%EC%B4%88%EA%B8%89_1~10.ipynb\" target=\"_parent\"><img src=\"https://colab.research.google.com/assets/colab-badge.svg\" alt=\"Open In Colab\"/></a>"
      ]
    },
    {
      "cell_type": "code",
      "source": [
        "# Q1\n",
        "nums = [100, 200, 300, 400, 500]\n",
        "\n",
        "del nums[3]\n",
        "del nums[3]\n",
        "\n",
        "print(nums)"
      ],
      "metadata": {
        "id": "zU4CRovjXDXL",
        "outputId": "275a02ff-4dfa-4746-a707-30a318409b80",
        "colab": {
          "base_uri": "https://localhost:8080/"
        }
      },
      "execution_count": null,
      "outputs": [
        {
          "output_type": "execute_result",
          "data": {
            "text/plain": [
              "[100, 200, 300]"
            ]
          },
          "metadata": {},
          "execution_count": 13
        }
      ]
    },
    {
      "cell_type": "code",
      "source": [
        "nums = [100, 200, 300, 400, 500]\n",
        "\n",
        "nums.pop()\n",
        "nums.pop()\n",
        "\n",
        "print(nums)"
      ],
      "metadata": {
        "colab": {
          "base_uri": "https://localhost:8080/"
        },
        "id": "ihc6XZfoZ1aJ",
        "outputId": "fd141608-cdde-4179-efa4-d5ecc027aa8c"
      },
      "execution_count": null,
      "outputs": [
        {
          "output_type": "stream",
          "name": "stdout",
          "text": [
            "[100, 200, 300]\n"
          ]
        }
      ]
    },
    {
      "cell_type": "code",
      "source": [
        "# Q2\n",
        "\n",
        "l= [200, 100, 300]\n",
        "l.insert(2, 10000)\n",
        "\n",
        "\n",
        "print(l)"
      ],
      "metadata": {
        "colab": {
          "base_uri": "https://localhost:8080/"
        },
        "id": "qwxMMOR1ZMmn",
        "outputId": "061f346d-e4bf-43dc-b7c2-d7d1ad226bbb"
      },
      "execution_count": null,
      "outputs": [
        {
          "output_type": "stream",
          "name": "stdout",
          "text": [
            "[200, 100, 10000, 300]\n"
          ]
        }
      ]
    },
    {
      "cell_type": "code",
      "source": [
        "# Q3\n",
        "\n",
        "l = [100, 200, 300]\n",
        "print(type(l))\n",
        "\n",
        "# 출력값: <class 'list'>"
      ],
      "metadata": {
        "colab": {
          "base_uri": "https://localhost:8080/"
        },
        "id": "lylQw69varyt",
        "outputId": "d4cb60c9-915e-46b5-ca96-1a0eb94071ac"
      },
      "execution_count": null,
      "outputs": [
        {
          "output_type": "stream",
          "name": "stdout",
          "text": [
            "<class 'list'>\n"
          ]
        }
      ]
    },
    {
      "cell_type": "code",
      "source": [
        "# Q4\n",
        "\n",
        "a = 'p'\n",
        "print(type(a))\n",
        "\n",
        "#python에는 char 자료형이 별도로 존재하지 X"
      ],
      "metadata": {
        "colab": {
          "base_uri": "https://localhost:8080/"
        },
        "id": "rYvkk5C-bEvt",
        "outputId": "97ec313e-9f98-4139-d2f6-7f73881c0979"
      },
      "execution_count": null,
      "outputs": [
        {
          "output_type": "stream",
          "name": "stdout",
          "text": [
            "<class 'str'>\n"
          ]
        }
      ]
    },
    {
      "cell_type": "code",
      "source": [
        "# Q5\n",
        "\n",
        "a = 10\n",
        "b = 2\n",
        "for i in range(1, 5, 2):\n",
        "    a += i\n",
        "\n",
        "print(a + b)\n",
        "\n",
        "# 1 ~ 5-1까지 2칸씩 -> 1, 3\n",
        "# 출력값: 16"
      ],
      "metadata": {
        "colab": {
          "base_uri": "https://localhost:8080/"
        },
        "id": "77ps9P4xbUOZ",
        "outputId": "762e1e16-86e6-4eec-8a52-23de28221f68"
      },
      "execution_count": null,
      "outputs": [
        {
          "output_type": "stream",
          "name": "stdout",
          "text": [
            "16\n"
          ]
        }
      ]
    },
    {
      "cell_type": "code",
      "source": [
        "_age = 30\n",
        "print(_age)"
      ],
      "metadata": {
        "colab": {
          "base_uri": "https://localhost:8080/"
        },
        "id": "5KnNC-utmeVd",
        "outputId": "7b1be8fc-c13f-4a5e-fd1e-2ccea1c17bc4"
      },
      "execution_count": null,
      "outputs": [
        {
          "output_type": "stream",
          "name": "stdout",
          "text": [
            "30\n"
          ]
        }
      ]
    },
    {
      "cell_type": "code",
      "source": [
        "d = {'height':180,'weight':78,'weight':84,'temparture':36,'eyesight':1}\n",
        "print(d['weight'])"
      ],
      "metadata": {
        "colab": {
          "base_uri": "https://localhost:8080/"
        },
        "id": "d3Btawb2rvbH",
        "outputId": "c2a0812a-730a-47ce-f65b-a346354dbab2"
      },
      "execution_count": null,
      "outputs": [
        {
          "output_type": "stream",
          "name": "stdout",
          "text": [
            "84\n"
          ]
        }
      ]
    },
    {
      "cell_type": "code",
      "source": [
        "year = '2019'\n",
        "month = '04'\n",
        "day = '26'\n",
        "hour = '11'\n",
        "minute = '34'\n",
        "second = '27'\n",
        "\n",
        "print(year, month, day, sep='/', end=' ')\n",
        "print(hour, minute, second, sep=':')"
      ],
      "metadata": {
        "colab": {
          "base_uri": "https://localhost:8080/"
        },
        "id": "NjxUo0KCxwQV",
        "outputId": "6e8cae65-052a-4f95-97da-9be765d20ea8"
      },
      "execution_count": 4,
      "outputs": [
        {
          "output_type": "stream",
          "name": "stdout",
          "text": [
            "2019/04/26 11:34:27\n"
          ]
        }
      ]
    },
    {
      "cell_type": "code",
      "source": [
        "#n = int(input())\n",
        "n = 5\n",
        "for i in range(1, n+1):\n",
        "\tprint( ' '*(n-i) + ('*' * (2*i-1)) )"
      ],
      "metadata": {
        "colab": {
          "base_uri": "https://localhost:8080/"
        },
        "id": "pZ8mHwmj8ylK",
        "outputId": "11b5c39e-4468-4b31-8710-678b7b3a2135"
      },
      "execution_count": 34,
      "outputs": [
        {
          "output_type": "stream",
          "name": "stdout",
          "text": [
            "    *\n",
            "   ***\n",
            "  *****\n",
            " *******\n",
            "*********\n"
          ]
        }
      ]
    }
  ]
}