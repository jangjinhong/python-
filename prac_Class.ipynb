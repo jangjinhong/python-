{
  "nbformat": 4,
  "nbformat_minor": 0,
  "metadata": {
    "colab": {
      "provenance": [],
      "authorship_tag": "ABX9TyMUPQzDjs9bkCeeVYvTYR95",
      "include_colab_link": true
    },
    "kernelspec": {
      "name": "python3",
      "display_name": "Python 3"
    },
    "language_info": {
      "name": "python"
    }
  },
  "cells": [
    {
      "cell_type": "markdown",
      "metadata": {
        "id": "view-in-github",
        "colab_type": "text"
      },
      "source": [
        "<a href=\"https://colab.research.google.com/github/jangjinhong/python-/blob/main/prac_Class.ipynb\" target=\"_parent\"><img src=\"https://colab.research.google.com/assets/colab-badge.svg\" alt=\"Open In Colab\"/></a>"
      ]
    },
    {
      "cell_type": "code",
      "execution_count": null,
      "metadata": {
        "colab": {
          "base_uri": "https://localhost:8080/"
        },
        "id": "pj6nI-9YN-ko",
        "outputId": "6db8b311-47b9-4480-e979-67442187f47b"
      },
      "outputs": [
        {
          "output_type": "stream",
          "name": "stdout",
          "text": [
            "my name is John I'm 16 years old.\n",
            "my name is Lia I'm 18 years old.\n"
          ]
        }
      ],
      "source": [
        "class Student:\n",
        "  def __init__(self, age, name):\n",
        "    self.age = age\n",
        "    self.res = 0\n",
        "    self.name = name\n",
        "\n",
        "  def plus(self, num):\n",
        "    self.res += num\n",
        "    return self.res\n",
        "\n",
        "  def introduce(self) :\n",
        "    print('my name is %s I\\'m %d years old.' %(self.name, self.age))\n",
        "    #print('my name is {0}. I\\'m {1} years old. '.format(self.name, self.age))\n",
        "\n",
        "stu1 = Student(16, 'John')\n",
        "stu2 = Student(18, 'Lia')\n",
        "\n",
        "stu1.introduce()    # my name is John I'm 16 years old.\n",
        "stu2.introduce()    # my name is Lia I'm 18 years old."
      ]
    },
    {
      "cell_type": "code",
      "source": [
        "# 생성자 포인터 매개변수\n",
        "\n",
        "class Student:\n",
        "  def __init__(self, *args):\n",
        "    self.age = args[0]\n",
        "    self.name = args[1]\n",
        "\n",
        "  def introduce(self) :\n",
        "    print('my name is {0}. I\\'m {1} years old. '.format(self.name, self.age))\n",
        "\n",
        "stu1 = Student(*[16, 'John'])\n",
        "stu2 = Student(*[18, 'Lia'])\n",
        "\n",
        "stu1.introduce()\n",
        "stu2.introduce()"
      ],
      "metadata": {
        "colab": {
          "base_uri": "https://localhost:8080/"
        },
        "id": "4moFLKLYOD57",
        "outputId": "b2e783d8-ebc4-46a6-b92e-4632a1740539"
      },
      "execution_count": null,
      "outputs": [
        {
          "output_type": "stream",
          "name": "stdout",
          "text": [
            "my name is John. I'm 16 years old. \n",
            "my name is Lia. I'm 18 years old. \n"
          ]
        }
      ]
    },
    {
      "cell_type": "code",
      "source": [
        "# 특정 인스턴스에만 속성 추가하기\n",
        "\n",
        "class Student:\n",
        "  def __init__(self, *args):\n",
        "    self.age = args[0]\n",
        "    self.name = args[1]\n",
        "\n",
        "  def introduce(self) :\n",
        "    print('my name is {0}. I\\'m {1} years old. '.format(self.name, self.age))\n",
        "\n",
        "stu1 = Student(*[16, 'John'])\n",
        "stu2 = Student(*[18, 'Lia'])\n",
        "\n",
        "stu1.score = 'A'\n",
        "\n",
        "print(stu1.score)\n",
        "print(stu2.score)"
      ],
      "metadata": {
        "colab": {
          "base_uri": "https://localhost:8080/",
          "height": 237
        },
        "id": "9J5BYIWrO-R2",
        "outputId": "ee78db80-470f-40b6-ce60-fc4b4baf7c83"
      },
      "execution_count": null,
      "outputs": [
        {
          "output_type": "stream",
          "name": "stdout",
          "text": [
            "A\n"
          ]
        },
        {
          "output_type": "error",
          "ename": "AttributeError",
          "evalue": "ignored",
          "traceback": [
            "\u001b[0;31m---------------------------------------------------------------------------\u001b[0m",
            "\u001b[0;31mAttributeError\u001b[0m                            Traceback (most recent call last)",
            "\u001b[0;32m<ipython-input-7-9bb70c7a925b>\u001b[0m in \u001b[0;36m<cell line: 17>\u001b[0;34m()\u001b[0m\n\u001b[1;32m     15\u001b[0m \u001b[0;34m\u001b[0m\u001b[0m\n\u001b[1;32m     16\u001b[0m \u001b[0mprint\u001b[0m\u001b[0;34m(\u001b[0m\u001b[0mstu1\u001b[0m\u001b[0;34m.\u001b[0m\u001b[0mscore\u001b[0m\u001b[0;34m)\u001b[0m\u001b[0;34m\u001b[0m\u001b[0;34m\u001b[0m\u001b[0m\n\u001b[0;32m---> 17\u001b[0;31m \u001b[0mprint\u001b[0m\u001b[0;34m(\u001b[0m\u001b[0mstu2\u001b[0m\u001b[0;34m.\u001b[0m\u001b[0mscore\u001b[0m\u001b[0;34m)\u001b[0m\u001b[0;34m\u001b[0m\u001b[0;34m\u001b[0m\u001b[0m\n\u001b[0m",
            "\u001b[0;31mAttributeError\u001b[0m: 'Student' object has no attribute 'score'"
          ]
        }
      ]
    },
    {
      "cell_type": "code",
      "source": [
        "# private attribute\n",
        "\n",
        "class Student:\n",
        "  def __init__(self, age, name, number):\n",
        "    self.age = age\n",
        "    self.name = name\n",
        "    self.__number = number\n",
        "\n",
        "  def introduce(self) :\n",
        "    print('my name is {0}. I\\'m {1} years old. '.format(self.name, self.age))\n",
        "\n",
        "stu1 = Student(16, 'John', 1001)\n",
        "\n",
        "print(stu1.name)\n",
        "print(stu1.number)"
      ],
      "metadata": {
        "colab": {
          "base_uri": "https://localhost:8080/",
          "height": 237
        },
        "id": "OsegWo2cP-EV",
        "outputId": "7c6c35a9-29e7-41dc-debe-2426da7252b6"
      },
      "execution_count": null,
      "outputs": [
        {
          "output_type": "stream",
          "name": "stdout",
          "text": [
            "John\n"
          ]
        },
        {
          "output_type": "error",
          "ename": "AttributeError",
          "evalue": "ignored",
          "traceback": [
            "\u001b[0;31m---------------------------------------------------------------------------\u001b[0m",
            "\u001b[0;31mAttributeError\u001b[0m                            Traceback (most recent call last)",
            "\u001b[0;32m<ipython-input-9-363595e5c914>\u001b[0m in \u001b[0;36m<cell line: 15>\u001b[0;34m()\u001b[0m\n\u001b[1;32m     13\u001b[0m \u001b[0;34m\u001b[0m\u001b[0m\n\u001b[1;32m     14\u001b[0m \u001b[0mprint\u001b[0m\u001b[0;34m(\u001b[0m\u001b[0mstu1\u001b[0m\u001b[0;34m.\u001b[0m\u001b[0mname\u001b[0m\u001b[0;34m)\u001b[0m\u001b[0;34m\u001b[0m\u001b[0;34m\u001b[0m\u001b[0m\n\u001b[0;32m---> 15\u001b[0;31m \u001b[0mprint\u001b[0m\u001b[0;34m(\u001b[0m\u001b[0mstu1\u001b[0m\u001b[0;34m.\u001b[0m\u001b[0mnumber\u001b[0m\u001b[0;34m)\u001b[0m\u001b[0;34m\u001b[0m\u001b[0;34m\u001b[0m\u001b[0m\n\u001b[0m",
            "\u001b[0;31mAttributeError\u001b[0m: 'Student' object has no attribute 'number'"
          ]
        }
      ]
    }
  ]
}