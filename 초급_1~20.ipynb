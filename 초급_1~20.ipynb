{
  "nbformat": 4,
  "nbformat_minor": 0,
  "metadata": {
    "colab": {
      "provenance": [],
      "authorship_tag": "ABX9TyOwxPglNIM2HQ4vx09kLz78",
      "include_colab_link": true
    },
    "kernelspec": {
      "name": "python3",
      "display_name": "Python 3"
    },
    "language_info": {
      "name": "python"
    }
  },
  "cells": [
    {
      "cell_type": "markdown",
      "metadata": {
        "id": "view-in-github",
        "colab_type": "text"
      },
      "source": [
        "<a href=\"https://colab.research.google.com/github/jangjinhong/python-/blob/main/%EC%B4%88%EA%B8%89_1~20.ipynb\" target=\"_parent\"><img src=\"https://colab.research.google.com/assets/colab-badge.svg\" alt=\"Open In Colab\"/></a>"
      ]
    },
    {
      "cell_type": "code",
      "source": [
        "# Q1\n",
        "nums = [100, 200, 300, 400, 500]\n",
        "\n",
        "del nums[3]\n",
        "del nums[3]\n",
        "\n",
        "print(nums)"
      ],
      "metadata": {
        "id": "zU4CRovjXDXL",
        "outputId": "275a02ff-4dfa-4746-a707-30a318409b80",
        "colab": {
          "base_uri": "https://localhost:8080/"
        }
      },
      "execution_count": null,
      "outputs": [
        {
          "output_type": "execute_result",
          "data": {
            "text/plain": [
              "[100, 200, 300]"
            ]
          },
          "metadata": {},
          "execution_count": 13
        }
      ]
    },
    {
      "cell_type": "code",
      "source": [
        "nums = [100, 200, 300, 400, 500]\n",
        "\n",
        "nums.pop()\n",
        "nums.pop()\n",
        "\n",
        "print(nums)"
      ],
      "metadata": {
        "colab": {
          "base_uri": "https://localhost:8080/"
        },
        "id": "ihc6XZfoZ1aJ",
        "outputId": "fd141608-cdde-4179-efa4-d5ecc027aa8c"
      },
      "execution_count": null,
      "outputs": [
        {
          "output_type": "stream",
          "name": "stdout",
          "text": [
            "[100, 200, 300]\n"
          ]
        }
      ]
    },
    {
      "cell_type": "code",
      "source": [
        "# Q2\n",
        "\n",
        "l= [200, 100, 300]\n",
        "l.insert(2, 10000)\n",
        "\n",
        "\n",
        "print(l)"
      ],
      "metadata": {
        "colab": {
          "base_uri": "https://localhost:8080/"
        },
        "id": "qwxMMOR1ZMmn",
        "outputId": "061f346d-e4bf-43dc-b7c2-d7d1ad226bbb"
      },
      "execution_count": null,
      "outputs": [
        {
          "output_type": "stream",
          "name": "stdout",
          "text": [
            "[200, 100, 10000, 300]\n"
          ]
        }
      ]
    },
    {
      "cell_type": "code",
      "source": [
        "# Q3\n",
        "\n",
        "l = [100, 200, 300]\n",
        "print(type(l))\n",
        "\n",
        "# 출력값: <class 'list'>"
      ],
      "metadata": {
        "colab": {
          "base_uri": "https://localhost:8080/"
        },
        "id": "lylQw69varyt",
        "outputId": "d4cb60c9-915e-46b5-ca96-1a0eb94071ac"
      },
      "execution_count": null,
      "outputs": [
        {
          "output_type": "stream",
          "name": "stdout",
          "text": [
            "<class 'list'>\n"
          ]
        }
      ]
    },
    {
      "cell_type": "code",
      "source": [
        "# Q4\n",
        "\n",
        "a = 'p'\n",
        "print(type(a))\n",
        "\n",
        "#python에는 char 자료형이 별도로 존재하지 X"
      ],
      "metadata": {
        "colab": {
          "base_uri": "https://localhost:8080/"
        },
        "id": "rYvkk5C-bEvt",
        "outputId": "97ec313e-9f98-4139-d2f6-7f73881c0979"
      },
      "execution_count": null,
      "outputs": [
        {
          "output_type": "stream",
          "name": "stdout",
          "text": [
            "<class 'str'>\n"
          ]
        }
      ]
    },
    {
      "cell_type": "code",
      "source": [
        "# Q5\n",
        "\n",
        "a = 10\n",
        "b = 2\n",
        "for i in range(1, 5, 2):\n",
        "    a += i\n",
        "\n",
        "print(a + b)\n",
        "\n",
        "# 1 ~ 5-1까지 2칸씩 -> 1, 3\n",
        "# 출력값: 16"
      ],
      "metadata": {
        "colab": {
          "base_uri": "https://localhost:8080/"
        },
        "id": "77ps9P4xbUOZ",
        "outputId": "762e1e16-86e6-4eec-8a52-23de28221f68"
      },
      "execution_count": null,
      "outputs": [
        {
          "output_type": "stream",
          "name": "stdout",
          "text": [
            "16\n"
          ]
        }
      ]
    },
    {
      "cell_type": "code",
      "source": [
        "_age = 30\n",
        "print(_age)"
      ],
      "metadata": {
        "colab": {
          "base_uri": "https://localhost:8080/"
        },
        "id": "5KnNC-utmeVd",
        "outputId": "7b1be8fc-c13f-4a5e-fd1e-2ccea1c17bc4"
      },
      "execution_count": null,
      "outputs": [
        {
          "output_type": "stream",
          "name": "stdout",
          "text": [
            "30\n"
          ]
        }
      ]
    },
    {
      "cell_type": "code",
      "source": [
        "d = {'height':180,'weight':78,'weight':84,'temparture':36,'eyesight':1}\n",
        "print(d['weight'])"
      ],
      "metadata": {
        "colab": {
          "base_uri": "https://localhost:8080/"
        },
        "id": "d3Btawb2rvbH",
        "outputId": "c2a0812a-730a-47ce-f65b-a346354dbab2"
      },
      "execution_count": null,
      "outputs": [
        {
          "output_type": "stream",
          "name": "stdout",
          "text": [
            "84\n"
          ]
        }
      ]
    },
    {
      "cell_type": "code",
      "source": [
        "year = '2019'\n",
        "month = '04'\n",
        "day = '26'\n",
        "hour = '11'\n",
        "minute = '34'\n",
        "second = '27'\n",
        "\n",
        "print(year, month, day, sep='/', end=' ')\n",
        "print(hour, minute, second, sep=':')"
      ],
      "metadata": {
        "colab": {
          "base_uri": "https://localhost:8080/"
        },
        "id": "NjxUo0KCxwQV",
        "outputId": "6e8cae65-052a-4f95-97da-9be765d20ea8"
      },
      "execution_count": null,
      "outputs": [
        {
          "output_type": "stream",
          "name": "stdout",
          "text": [
            "2019/04/26 11:34:27\n"
          ]
        }
      ]
    },
    {
      "cell_type": "code",
      "source": [
        "# Q10\n",
        "# n = int(input())\n",
        "n = 5\n",
        "for i in range(1, n+1):\n",
        "\tprint( ' '*(n-i) + ('*' * (2*i-1)) )"
      ],
      "metadata": {
        "colab": {
          "base_uri": "https://localhost:8080/"
        },
        "id": "pZ8mHwmj8ylK",
        "outputId": "11b5c39e-4468-4b31-8710-678b7b3a2135"
      },
      "execution_count": null,
      "outputs": [
        {
          "output_type": "stream",
          "name": "stdout",
          "text": [
            "    *\n",
            "   ***\n",
            "  *****\n",
            " *******\n",
            "*********\n"
          ]
        }
      ]
    },
    {
      "cell_type": "code",
      "source": [
        "# Q11\n",
        "\n",
        "s = 0\n",
        "\n",
        "for i in range(1, 101):\n",
        "  s += i\n",
        "\n",
        "print(s)"
      ],
      "metadata": {
        "colab": {
          "base_uri": "https://localhost:8080/"
        },
        "id": "Bdrln-5-DkRG",
        "outputId": "6506cdae-e307-4c48-fb72-73c70f7bfff9"
      },
      "execution_count": null,
      "outputs": [
        {
          "output_type": "stream",
          "name": "stdout",
          "text": [
            "5050\n"
          ]
        }
      ]
    },
    {
      "cell_type": "code",
      "source": [
        "# Q12\n",
        "\n",
        "class Wizard:\n",
        "  def __init__(self, health, mana, armor):\n",
        "    self.health = health\n",
        "    self.mana = mana\n",
        "    self.armor = armor\n",
        "\n",
        "  def attack(self):\n",
        "    print('파이어볼')\n",
        "\n",
        "\n",
        "jik = Wizard(health = 545, mana = 210, armor = 10)\n",
        "print(jik.health, jik.mana, jik.armor)\n",
        "jik.attack()"
      ],
      "metadata": {
        "colab": {
          "base_uri": "https://localhost:8080/"
        },
        "id": "XY1V99hfD-m5",
        "outputId": "924cd4e1-ce57-4513-c737-756c2c0a8145"
      },
      "execution_count": null,
      "outputs": [
        {
          "output_type": "stream",
          "name": "stdout",
          "text": [
            "545 210 10\n",
            "파이어볼\n"
          ]
        }
      ]
    },
    {
      "cell_type": "code",
      "source": [
        "# Q13\n",
        "\n",
        "planet = ['수성', '금성', '지구', '화성', '목성', '토성', '천왕성', '해왕성']\n",
        "\n",
        "\n",
        "print(planet[(int)(input()) -1])"
      ],
      "metadata": {
        "colab": {
          "base_uri": "https://localhost:8080/"
        },
        "id": "PA5EmeBJFYOL",
        "outputId": "37f05994-ac81-4aa2-d897-56a5c06a36e0"
      },
      "execution_count": null,
      "outputs": [
        {
          "output_type": "stream",
          "name": "stdout",
          "text": [
            "1\n",
            "수성\n"
          ]
        }
      ]
    },
    {
      "cell_type": "code",
      "source": [
        "# Q14\n",
        "\n",
        "n = int(input())\n",
        "\n",
        "if n % 3 == 0 :\n",
        "  print(\"짝\")\n",
        "else :\n",
        "  print(\"홀\")"
      ],
      "metadata": {
        "colab": {
          "base_uri": "https://localhost:8080/"
        },
        "id": "AuNN9GSJSQ8m",
        "outputId": "030d744f-6552-4c77-f175-76b4c70c916d"
      },
      "execution_count": null,
      "outputs": [
        {
          "output_type": "stream",
          "name": "stdout",
          "text": [
            "4\n",
            "홀\n"
          ]
        }
      ]
    },
    {
      "cell_type": "code",
      "source": [
        "# Q15\n",
        "name = input()\n",
        "\n",
        "print(\"안녕하세요. 저는 %s입니다.\" %name)\n",
        "print(\"안녕하세요. 저는 {}입니다.\" .format(name))"
      ],
      "metadata": {
        "colab": {
          "base_uri": "https://localhost:8080/"
        },
        "id": "6BPSFL6ISskN",
        "outputId": "00ebc7a3-d500-4e99-94d7-e6e79acf177b"
      },
      "execution_count": null,
      "outputs": [
        {
          "output_type": "stream",
          "name": "stdout",
          "text": [
            "3\n",
            "안녕하세요. 저는 3입니다.\n",
            "안녕하세요. 저는 3입니다.\n"
          ]
        }
      ]
    },
    {
      "cell_type": "code",
      "source": [
        "# Q16\n",
        "\n",
        "str = input()\n",
        "print(str[::-1])"
      ],
      "metadata": {
        "colab": {
          "base_uri": "https://localhost:8080/"
        },
        "id": "t2ZnjC9tUG3A",
        "outputId": "0fe92486-f9cc-47a5-d7fd-73ef16cab746"
      },
      "execution_count": 6,
      "outputs": [
        {
          "output_type": "stream",
          "name": "stdout",
          "text": [
            "거꾸로\n",
            "로꾸거\n"
          ]
        }
      ]
    },
    {
      "cell_type": "code",
      "source": [
        "str = input()\n",
        "\n",
        "str_list = list(str)\n",
        "str_list.reverse()\n",
        "\n",
        "print(''.join(str_list))"
      ],
      "metadata": {
        "colab": {
          "base_uri": "https://localhost:8080/"
        },
        "id": "7LobMnzhYnDX",
        "outputId": "75d064b3-d6e4-44d3-db6a-b1caa4f5a2a8"
      },
      "execution_count": 25,
      "outputs": [
        {
          "output_type": "stream",
          "name": "stdout",
          "text": [
            "거꾸로\n",
            "로꾸거\n"
          ]
        }
      ]
    },
    {
      "cell_type": "code",
      "source": [
        "# Q17\n",
        "\n",
        "h = int(input())\n",
        "\n",
        "if(h >= 150) :\n",
        "  print(\"YES\")\n",
        "else :\n",
        "  print(\"NO\")"
      ],
      "metadata": {
        "colab": {
          "base_uri": "https://localhost:8080/"
        },
        "id": "0OmWixtLaQ5T",
        "outputId": "14084df2-c679-4e82-fd0a-be3771d7777f"
      },
      "execution_count": 27,
      "outputs": [
        {
          "output_type": "stream",
          "name": "stdout",
          "text": [
            "150\n",
            "YES\n"
          ]
        }
      ]
    },
    {
      "cell_type": "code",
      "source": [
        "# Q18\n",
        "\n",
        "score = input().split()\n",
        "sum = 0\n",
        "\n",
        "for i in range(len(score)):\n",
        "  sum += (int)(score[i])\n",
        "\n",
        "print(round(sum/len(score)))"
      ],
      "metadata": {
        "colab": {
          "base_uri": "https://localhost:8080/"
        },
        "id": "rhv4yGBkggMS",
        "outputId": "351368a5-4c71-4d7a-ea7c-deacbd79ebc8"
      },
      "execution_count": 40,
      "outputs": [
        {
          "output_type": "stream",
          "name": "stdout",
          "text": [
            "20 30 40\n",
            "30\n"
          ]
        }
      ]
    },
    {
      "cell_type": "code",
      "source": [
        "score = list(map(int, input().split()))\n",
        "#del sum\n",
        "\n",
        "print(int(sum(score)/3))"
      ],
      "metadata": {
        "colab": {
          "base_uri": "https://localhost:8080/"
        },
        "id": "ELf0C_eXip14",
        "outputId": "33747fc5-ba0b-4c01-833c-4d342727c79a"
      },
      "execution_count": 65,
      "outputs": [
        {
          "output_type": "stream",
          "name": "stdout",
          "text": [
            "20 30 40\n",
            "30\n"
          ]
        }
      ]
    },
    {
      "cell_type": "code",
      "source": [
        "# Q19\n",
        "\n",
        "n = list(map(int, input().split()))\n",
        "\n",
        "print(n[0]**n[1])"
      ],
      "metadata": {
        "colab": {
          "base_uri": "https://localhost:8080/"
        },
        "id": "vpkS7OQSljJu",
        "outputId": "fc3e9f42-2163-4cfd-fa51-e28eb57dc9ce"
      },
      "execution_count": 69,
      "outputs": [
        {
          "output_type": "stream",
          "name": "stdout",
          "text": [
            "2 3\n",
            "8\n"
          ]
        }
      ]
    },
    {
      "cell_type": "code",
      "source": [
        "# Q20\n",
        "\n",
        "n = list(map(int, input().split()))\n",
        "\n",
        "print(n[0]//n[1], n[0]%n[1])"
      ],
      "metadata": {
        "colab": {
          "base_uri": "https://localhost:8080/"
        },
        "id": "p8oSE_M-mJbR",
        "outputId": "951bcdbd-623b-4814-842a-fe5c335da0a0"
      },
      "execution_count": 80,
      "outputs": [
        {
          "output_type": "stream",
          "name": "stdout",
          "text": [
            "10 2\n",
            "5 0\n"
          ]
        }
      ]
    }
  ]
}