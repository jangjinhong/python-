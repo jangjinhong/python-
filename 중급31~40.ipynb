{
  "nbformat": 4,
  "nbformat_minor": 0,
  "metadata": {
    "colab": {
      "provenance": [],
      "authorship_tag": "ABX9TyMdaVDtvsmlJVy2tKtsiP1Y",
      "include_colab_link": true
    },
    "kernelspec": {
      "name": "python3",
      "display_name": "Python 3"
    },
    "language_info": {
      "name": "python"
    }
  },
  "cells": [
    {
      "cell_type": "markdown",
      "metadata": {
        "id": "view-in-github",
        "colab_type": "text"
      },
      "source": [
        "<a href=\"https://colab.research.google.com/github/jangjinhong/python-/blob/main/%EC%A4%91%EA%B8%8931~40.ipynb\" target=\"_parent\"><img src=\"https://colab.research.google.com/assets/colab-badge.svg\" alt=\"Open In Colab\"/></a>"
      ]
    },
    {
      "cell_type": "code",
      "execution_count": null,
      "metadata": {
        "colab": {
          "base_uri": "https://localhost:8080/"
        },
        "id": "fHHqEAGOW8Gb",
        "outputId": "f8f7c010-18ef-431d-f715-a5f9b7051357"
      },
      "outputs": [
        {
          "output_type": "stream",
          "name": "stdout",
          "text": [
            "안녕하세요. 저는 제주대학교 컴퓨터공학전공 혜림입니다.\n",
            "5\n"
          ]
        }
      ],
      "source": [
        "# Q. 32\n",
        "\n",
        "str = input()\n",
        "\n",
        "print(len(str.split(' ')))"
      ]
    },
    {
      "cell_type": "code",
      "source": [
        "str = input()\n",
        "\n",
        "print(len(str.strip().split(' ')))"
      ],
      "metadata": {
        "colab": {
          "base_uri": "https://localhost:8080/"
        },
        "id": "uEBdI6CoY2wU",
        "outputId": "7566f8fc-fbd1-4c2e-e5cc-62bd1910116f"
      },
      "execution_count": null,
      "outputs": [
        {
          "output_type": "stream",
          "name": "stdout",
          "text": [
            "안녕하세요. 저는 제주대학교 컴퓨터공학전공 혜림입니다.\n",
            "5\n"
          ]
        }
      ]
    },
    {
      "cell_type": "code",
      "source": [
        "str = \"안녕하세요. 저는 사람입니다.\"\n",
        "\n",
        "print(list(str.strip()))"
      ],
      "metadata": {
        "colab": {
          "base_uri": "https://localhost:8080/"
        },
        "id": "ovp-HjdCZY7K",
        "outputId": "dc0257df-ad98-4213-a018-cdc2a6779cb2"
      },
      "execution_count": null,
      "outputs": [
        {
          "output_type": "stream",
          "name": "stdout",
          "text": [
            "['안', '녕', '하', '세', '요', '.', ' ', '저', '는', ' ', '사', '람', '입', '니', '다', '.']\n"
          ]
        }
      ]
    },
    {
      "cell_type": "code",
      "source": [
        "# Q.33\n",
        "\n",
        "nums = input()\n",
        "\n",
        "print(nums[::-1])"
      ],
      "metadata": {
        "colab": {
          "base_uri": "https://localhost:8080/"
        },
        "id": "puuUdtkbaItU",
        "outputId": "493bcd2e-8364-4051-b9f8-eed6b8dc535c"
      },
      "execution_count": null,
      "outputs": [
        {
          "output_type": "stream",
          "name": "stdout",
          "text": [
            "2 4 6 7 8\n",
            "8 7 6 4 2\n"
          ]
        }
      ]
    },
    {
      "cell_type": "code",
      "source": [
        "nums = list(map(int, input().split()))\n",
        "\n",
        "for i in range(len(nums)-1, -1, -1):\n",
        "  print(nums[i], end=' ')"
      ],
      "metadata": {
        "colab": {
          "base_uri": "https://localhost:8080/"
        },
        "id": "W1iYFaaCaioK",
        "outputId": "ab99e845-da29-499f-81ce-42224dfdc507"
      },
      "execution_count": null,
      "outputs": [
        {
          "output_type": "stream",
          "name": "stdout",
          "text": [
            "2 4 6 7 8\n",
            "8 7 6 4 2 "
          ]
        }
      ]
    },
    {
      "cell_type": "code",
      "source": [
        "#Q.34\n",
        "\n",
        "str = list(map(int, input().split()))\n",
        "\n",
        "if str != sorted(str) :\n",
        "  print(\"NO\")\n",
        "else :\n",
        "  print(\"YES\")"
      ],
      "metadata": {
        "id": "8N4CIIpUbE0_",
        "colab": {
          "base_uri": "https://localhost:8080/"
        },
        "outputId": "1f5ed68b-b213-4f0d-93c8-a11569398b74"
      },
      "execution_count": null,
      "outputs": [
        {
          "output_type": "stream",
          "name": "stdout",
          "text": [
            "176 156 155 165 166 169\n",
            "NO\n"
          ]
        }
      ]
    },
    {
      "cell_type": "code",
      "source": [
        "str = list(map(int, input().split()))\n",
        "\n",
        "str2 = [int (i) for i in str]\n",
        "\n",
        "if str != sorted(str2) :\n",
        "  print(\"NO\")\n",
        "else :\n",
        "  print(\"YES\")"
      ],
      "metadata": {
        "colab": {
          "base_uri": "https://localhost:8080/"
        },
        "id": "-fWlgmi0AS4M",
        "outputId": "dc362981-8dde-4451-d9f7-c4ab3fe4726a"
      },
      "execution_count": null,
      "outputs": [
        {
          "output_type": "stream",
          "name": "stdout",
          "text": [
            "176 156 155 165 166 169\n",
            "NO\n"
          ]
        }
      ]
    },
    {
      "cell_type": "code",
      "source": [
        "num = 4\n",
        "sum = 1\n",
        "for i in range(num, 1, -1) :\n",
        "  print(i, \" * \", i-1)\n",
        "  sum = sum * i\n",
        "  print(sum)\n",
        "\n",
        "print(sum)  # 4*3*2*1 = 24"
      ],
      "metadata": {
        "colab": {
          "base_uri": "https://localhost:8080/"
        },
        "id": "kOFGO92PBmDm",
        "outputId": "6fbe8b00-92e1-4527-8e68-672d72d0296b"
      },
      "execution_count": null,
      "outputs": [
        {
          "output_type": "stream",
          "name": "stdout",
          "text": [
            "4  *  3\n",
            "4\n",
            "3  *  2\n",
            "12\n",
            "2  *  1\n",
            "24\n",
            "24\n"
          ]
        }
      ]
    },
    {
      "cell_type": "code",
      "source": [
        "# Q.35\n",
        "\n",
        "def one(n):\n",
        "    def two(v):\n",
        "      re = v ** n\n",
        "      return re\n",
        "    return two\n",
        "\n",
        "a = one(2)\n",
        "b = one(3)\n",
        "c = one(4)\n",
        "print(a(10))\n",
        "print(b(10))\n",
        "print(c(10))"
      ],
      "metadata": {
        "colab": {
          "base_uri": "https://localhost:8080/"
        },
        "id": "ADkmm1oBA_u9",
        "outputId": "bed13fa2-bc7e-465a-fa74-e7af039141bf"
      },
      "execution_count": null,
      "outputs": [
        {
          "output_type": "stream",
          "name": "stdout",
          "text": [
            "<function one.<locals>.two at 0x787a1dacb910>\n",
            "100\n",
            "1000\n",
            "10000\n"
          ]
        }
      ]
    },
    {
      "cell_type": "code",
      "source": [
        "# Q.36\n",
        "\n",
        "n = int(input())\n",
        "\n",
        "for i in range(1, 10) :\n",
        "  print(n*i, end=' ')"
      ],
      "metadata": {
        "colab": {
          "base_uri": "https://localhost:8080/"
        },
        "id": "cHjgJCT0MuhA",
        "outputId": "6fba2eb1-ac2c-4ff8-ba8d-edf365b4c860"
      },
      "execution_count": 5,
      "outputs": [
        {
          "output_type": "stream",
          "name": "stdout",
          "text": [
            "2\n",
            "2 4 6 8 10 12 14 16 18 "
          ]
        }
      ]
    },
    {
      "cell_type": "code",
      "source": [
        "# Q.37\n",
        "name = input().split()\n",
        "name_dict = {}\n",
        "\n",
        "for n in name :\n",
        "  name_dict[n] = name.count(n)\n",
        "\n",
        "print(f'{max(name_dict, key=name_dict.get)}(이)가 총 {name_dict[max(name_dict, key=name_dict.get)]}표로 반장이 되었습니다.')"
      ],
      "metadata": {
        "colab": {
          "base_uri": "https://localhost:8080/"
        },
        "id": "82rZlk2DNJUv",
        "outputId": "6b8d505a-88b6-4499-88da-6643927edc95"
      },
      "execution_count": 15,
      "outputs": [
        {
          "output_type": "stream",
          "name": "stdout",
          "text": [
            "원범 원범 혜원 혜원 혜원 혜원 유진 유진\n",
            "혜원(이)가 총 4표로 반장이 되었습니다.\n"
          ]
        }
      ]
    },
    {
      "cell_type": "code",
      "source": [
        "# Q.38\n",
        "\n",
        "data = list(map(int, input().split()))\n",
        "cnt = 3\n",
        "\n",
        "if len(set(data)) <= 3 :\n",
        "  cnt = len(data)\n",
        "else :\n",
        "  break_data = sorted(list(set(data)), reverse=True)[3] #4등까지\n",
        "  data_sorted = sorted(list(set(data)), reverse=True)\n",
        "  for i in data_sorted :  # 4등 나올 때까지만 반복\n",
        "    if break_data == i :\n",
        "      break\n",
        "    else :\n",
        "      cnt += 1\n",
        "\n",
        "print(cnt)"
      ],
      "metadata": {
        "colab": {
          "base_uri": "https://localhost:8080/"
        },
        "id": "QBa5ECG9Og53",
        "outputId": "0a64028d-d129-42ea-f78c-1129106c3bfe"
      },
      "execution_count": 36,
      "outputs": [
        {
          "name": "stdout",
          "output_type": "stream",
          "text": [
            "1 1 1 1 2 2 3\n"
          ]
        },
        {
          "output_type": "execute_result",
          "data": {
            "text/plain": [
              "7"
            ]
          },
          "metadata": {},
          "execution_count": 36
        }
      ]
    },
    {
      "cell_type": "code",
      "source": [
        "# Q.39\n",
        "# q -> e, b -> n\n",
        "\n",
        "str = input()\n"
      ],
      "metadata": {
        "id": "sz263jJYR1q0"
      },
      "execution_count": null,
      "outputs": []
    }
  ]
}